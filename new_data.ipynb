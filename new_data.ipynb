{
 "cells": [
  {
   "cell_type": "code",
   "execution_count": 1,
   "outputs": [
    {
     "name": "stdout",
     "output_type": "stream",
     "text": [
      "ello\n"
     ]
    }
   ],
   "source": [
    "print('ello')"
   ],
   "metadata": {
    "collapsed": false,
    "pycharm": {
     "name": "#%%\n"
    }
   }
  },
  {
   "cell_type": "code",
   "execution_count": 14,
   "outputs": [],
   "source": [
    "%matplotlib inline\n",
    "import matplotlib as mpl;\n",
    "import matplotlib.pyplot as plt;\n",
    "import numpy as np;\n",
    "import gzip;\n",
    "from io import StringIO;\n",
    "\n",
    "def parse_header_of_csv(csv_str):\n",
    "    # Isolate the headline columns:\n",
    "    print(csv_str)\n",
    "    headline = csv_str[:csv_str.index('\\n')];\n",
    "    columns = headline.split(',');\n",
    "\n",
    "    # The first column should be timestamp:\n",
    "    assert columns[0] == 'timestamp';\n",
    "    # The last column should be label_source:\n",
    "    assert columns[-1] == 'label_source';\n",
    "\n",
    "    # Search for the column of the first label:\n",
    "    for (ci,col) in enumerate(columns):\n",
    "        if col.startswith('label:'):\n",
    "            first_label_ind = ci;\n",
    "            break;\n",
    "        pass;\n",
    "\n",
    "    # Feature columns come after timestamp and before the labels:\n",
    "    feature_names = columns[1:first_label_ind];\n",
    "    # Then come the labels, till the one-before-last column:\n",
    "    label_names = columns[first_label_ind:-1];\n",
    "    for (li,label) in enumerate(label_names):\n",
    "        # In the CSV the label names appear with prefix 'label:', but we don't need it after reading the data:\n",
    "        assert label.startswith('label:');\n",
    "        label_names[li] = label.replace('label:','');\n",
    "        pass;\n",
    "\n",
    "    return (feature_names,label_names);\n",
    "\n",
    "def parse_body_of_csv(csv_str,n_features):\n",
    "    # Read the entire CSV body into a single numeric matrix:\n",
    "    full_table = np.loadtxt(StringIO.StringIO(csv_str),delimiter=',',skiprows=1);\n",
    "\n",
    "    # Timestamp is the primary key for the records (examples):\n",
    "    timestamps = full_table[:,0].astype(int);\n",
    "\n",
    "    # Read the sensor features:\n",
    "    X = full_table[:,1:(n_features+1)];\n",
    "\n",
    "    # Read the binary label values, and the 'missing label' indicators:\n",
    "    trinary_labels_mat = full_table[:,(n_features+1):-1]; # This should have values of either 0., 1. or NaN\n",
    "    M = np.isnan(trinary_labels_mat); # M is the missing label matrix\n",
    "    Y = np.where(M,0,trinary_labels_mat) > 0.; # Y is the label matrix\n",
    "\n",
    "    return (X,Y,M,timestamps);\n",
    "\n",
    "'''\n",
    "Read the data (precomputed sensor-features and labels) for a user.\n",
    "This function assumes the user's data file is present.\n",
    "'''\n",
    "def read_user_data(uuid, folder = 'datasets/new/'):\n",
    "    user_data_file = folder + '%s.features_labels.csv.gz' % uuid;\n",
    "\n",
    "    # Read the entire csv file of the user:\n",
    "    with gzip.open(user_data_file,'rb') as fid:\n",
    "        csv_str = fid.read();\n",
    "        pass;\n",
    "    print(type(csv_str))\n",
    "\n",
    "    (feature_names,label_names) = parse_header_of_csv(csv_str);\n",
    "    n_features = len(feature_names);\n",
    "    (X,Y,M,timestamps) = parse_body_of_csv(csv_str,n_features);\n",
    "\n",
    "    return (X,Y,M,timestamps,feature_names,label_names);"
   ],
   "metadata": {
    "collapsed": false,
    "pycharm": {
     "name": "#%%\n"
    }
   }
  },
  {
   "cell_type": "code",
   "execution_count": 15,
   "outputs": [
    {
     "name": "stderr",
     "output_type": "stream",
     "text": [
      "IOPub data rate exceeded.\n",
      "The notebook server will temporarily stop sending output\n",
      "to the client in order to avoid crashing it.\n",
      "To change this limit, set the config variable\n",
      "`--NotebookApp.iopub_data_rate_limit`.\n",
      "\n",
      "Current values:\n",
      "NotebookApp.iopub_data_rate_limit=1000000.0 (bytes/sec)\n",
      "NotebookApp.rate_limit_window=3.0 (secs)\n",
      "\n"
     ]
    },
    {
     "ename": "TypeError",
     "evalue": "argument should be integer or bytes-like object, not 'str'",
     "output_type": "error",
     "traceback": [
      "\u001B[0;31m---------------------------------------------------------------------------\u001B[0m",
      "\u001B[0;31mTypeError\u001B[0m                                 Traceback (most recent call last)",
      "Input \u001B[0;32mIn [15]\u001B[0m, in \u001B[0;36m<cell line: 2>\u001B[0;34m()\u001B[0m\n\u001B[1;32m      1\u001B[0m uuid \u001B[38;5;241m=\u001B[39m \u001B[38;5;124m'\u001B[39m\u001B[38;5;124m0A986513-7828-4D53-AA1F-E02D6DF9561B\u001B[39m\u001B[38;5;124m'\u001B[39m;\n\u001B[0;32m----> 2\u001B[0m (X,Y,M,timestamps,feature_names,label_names) \u001B[38;5;241m=\u001B[39m \u001B[43mread_user_data\u001B[49m\u001B[43m(\u001B[49m\u001B[43muuid\u001B[49m\u001B[43m)\u001B[49m\n",
      "Input \u001B[0;32mIn [14]\u001B[0m, in \u001B[0;36mread_user_data\u001B[0;34m(uuid, folder)\u001B[0m\n\u001B[1;32m     65\u001B[0m     \u001B[38;5;28;01mpass\u001B[39;00m;\n\u001B[1;32m     66\u001B[0m \u001B[38;5;28mprint\u001B[39m(\u001B[38;5;28mtype\u001B[39m(csv_str))\n\u001B[0;32m---> 68\u001B[0m (feature_names,label_names) \u001B[38;5;241m=\u001B[39m \u001B[43mparse_header_of_csv\u001B[49m\u001B[43m(\u001B[49m\u001B[43mcsv_str\u001B[49m\u001B[43m)\u001B[49m;\n\u001B[1;32m     69\u001B[0m n_features \u001B[38;5;241m=\u001B[39m \u001B[38;5;28mlen\u001B[39m(feature_names);\n\u001B[1;32m     70\u001B[0m (X,Y,M,timestamps) \u001B[38;5;241m=\u001B[39m parse_body_of_csv(csv_str,n_features);\n",
      "Input \u001B[0;32mIn [14]\u001B[0m, in \u001B[0;36mparse_header_of_csv\u001B[0;34m(csv_str)\u001B[0m\n\u001B[1;32m      8\u001B[0m \u001B[38;5;28;01mdef\u001B[39;00m \u001B[38;5;21mparse_header_of_csv\u001B[39m(csv_str):\n\u001B[1;32m      9\u001B[0m     \u001B[38;5;66;03m# Isolate the headline columns:\u001B[39;00m\n\u001B[1;32m     10\u001B[0m     \u001B[38;5;28mprint\u001B[39m(csv_str)\n\u001B[0;32m---> 11\u001B[0m     headline \u001B[38;5;241m=\u001B[39m csv_str[:\u001B[43mcsv_str\u001B[49m\u001B[38;5;241;43m.\u001B[39;49m\u001B[43mindex\u001B[49m\u001B[43m(\u001B[49m\u001B[38;5;124;43m'\u001B[39;49m\u001B[38;5;130;43;01m\\n\u001B[39;49;00m\u001B[38;5;124;43m'\u001B[39;49m\u001B[43m)\u001B[49m];\n\u001B[1;32m     12\u001B[0m     columns \u001B[38;5;241m=\u001B[39m headline\u001B[38;5;241m.\u001B[39msplit(\u001B[38;5;124m'\u001B[39m\u001B[38;5;124m,\u001B[39m\u001B[38;5;124m'\u001B[39m);\n\u001B[1;32m     14\u001B[0m     \u001B[38;5;66;03m# The first column should be timestamp:\u001B[39;00m\n",
      "\u001B[0;31mTypeError\u001B[0m: argument should be integer or bytes-like object, not 'str'"
     ]
    }
   ],
   "source": [
    "uuid = '0A986513-7828-4D53-AA1F-E02D6DF9561B';\n",
    "(X,Y,M,timestamps,feature_names,label_names) = read_user_data(uuid);"
   ],
   "metadata": {
    "collapsed": false,
    "pycharm": {
     "name": "#%%\n"
    }
   }
  },
  {
   "cell_type": "code",
   "execution_count": null,
   "outputs": [],
   "source": [],
   "metadata": {
    "collapsed": false,
    "pycharm": {
     "name": "#%%\n"
    }
   }
  }
 ],
 "metadata": {
  "kernelspec": {
   "display_name": "Python 3",
   "language": "python",
   "name": "python3"
  },
  "language_info": {
   "codemirror_mode": {
    "name": "ipython",
    "version": 2
   },
   "file_extension": ".py",
   "mimetype": "text/x-python",
   "name": "python",
   "nbconvert_exporter": "python",
   "pygments_lexer": "ipython2",
   "version": "2.7.6"
  }
 },
 "nbformat": 4,
 "nbformat_minor": 0
}